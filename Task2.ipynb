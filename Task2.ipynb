{
  "cells": [
    {
      "cell_type": "markdown",
      "metadata": {
        "id": "view-in-github",
        "colab_type": "text"
      },
      "source": [
        "<a href=\"https://colab.research.google.com/github/2303A51155/CODSOFT/blob/main/Task2.ipynb\" target=\"_parent\"><img src=\"https://colab.research.google.com/assets/colab-badge.svg\" alt=\"Open In Colab\"/></a>"
      ]
    },
    {
      "cell_type": "markdown",
      "source": [
        "RECOMMENDATION SYSTEM\n",
        "\n",
        "Create a simple recommendation system that suggests items to users based on their preferences. You can use techniques like collaborative filtering or content-based filtering to recommend movies, books, or products to users."
      ],
      "metadata": {
        "id": "A0kLCU1rETFr"
      }
    },
    {
      "cell_type": "code",
      "source": [
        "!pip install scikit-surprise # Install the 'surprise' library\n",
        "\n",
        "import pandas as pd\n",
        "from surprise import Dataset, Reader\n",
        "from surprise import SVD\n",
        "from surprise.model_selection import train_test_split\n",
        "from surprise import accuracy\n",
        "\n",
        "# Load the built-in MovieLens 100k dataset\n",
        "data = Dataset.load_builtin('ml-100k')\n",
        "reader = Reader(line_format='user item rating timestamp', sep='\\t')\n",
        "\n",
        "# Convert the data to a pandas DataFrame for easier manipulation\n",
        "df = pd.DataFrame(data.raw_ratings, columns=['user', 'item', 'rating', 'timestamp'])\n",
        "\n",
        "# Initialize the SVD model\n",
        "model = SVD()\n",
        "\n",
        "# Split the data into training and testing sets\n",
        "trainset, testset = train_test_split(data, test_size=0.2)\n",
        "\n",
        "# Train the model on the training set\n",
        "model.fit(trainset)\n",
        "\n",
        "# Make predictions on the testing set\n",
        "predictions = model.test(testset)\n",
        "\n",
        "# Evaluate the model's performance using RMSE\n",
        "accuracy.rmse(predictions)\n",
        "\n",
        "# Define a function to get recommendations for a given user\n",
        "def get_recommendations(user_id, n_recommendations=5):\n",
        "    all_items = df['item'].unique()\n",
        "    user_predictions = []\n",
        "    for item in all_items:\n",
        "        predicted_rating = model.predict(user_id, item).est\n",
        "        user_predictions.append((item, predicted_rating))\n",
        "    user_predictions.sort(key=lambda x: x[1], reverse=True)\n",
        "    return user_predictions[:n_recommendations]\n",
        "\n",
        "# Get recommendations for user 196\n",
        "recommended_items = get_recommendations(user_id=196, n_recommendations=5)\n",
        "print(\"Recommended Items for User 196:\")\n",
        "for item, rating in recommended_items:\n",
        "    print(f\"Item ID: {item}, Predicted Rating: {rating:.2f}\")"
      ],
      "metadata": {
        "colab": {
          "base_uri": "https://localhost:8080/"
        },
        "id": "DJyb6cJZEz8_",
        "outputId": "7710b763-7b05-40c1-8b7a-d94eed6743c9"
      },
      "execution_count": 6,
      "outputs": [
        {
          "output_type": "stream",
          "name": "stdout",
          "text": [
            "Requirement already satisfied: scikit-surprise in /usr/local/lib/python3.10/dist-packages (1.1.4)\n",
            "Requirement already satisfied: joblib>=1.2.0 in /usr/local/lib/python3.10/dist-packages (from scikit-surprise) (1.4.2)\n",
            "Requirement already satisfied: numpy>=1.19.5 in /usr/local/lib/python3.10/dist-packages (from scikit-surprise) (1.26.4)\n",
            "Requirement already satisfied: scipy>=1.6.0 in /usr/local/lib/python3.10/dist-packages (from scikit-surprise) (1.13.1)\n",
            "Dataset ml-100k could not be found. Do you want to download it? [Y/n] y\n",
            "Trying to download dataset from https://files.grouplens.org/datasets/movielens/ml-100k.zip...\n",
            "Done! Dataset ml-100k has been saved to /root/.surprise_data/ml-100k\n",
            "RMSE: 0.9287\n",
            "Recommended Items for User 196:\n",
            "Item ID: 408, Predicted Rating: 4.61\n",
            "Item ID: 483, Predicted Rating: 4.59\n",
            "Item ID: 318, Predicted Rating: 4.58\n",
            "Item ID: 169, Predicted Rating: 4.56\n",
            "Item ID: 64, Predicted Rating: 4.52\n"
          ]
        }
      ]
    }
  ],
  "metadata": {
    "colab": {
      "name": "Welcome To Colab",
      "toc_visible": true,
      "provenance": [],
      "include_colab_link": true
    },
    "kernelspec": {
      "display_name": "Python 3",
      "name": "python3"
    }
  },
  "nbformat": 4,
  "nbformat_minor": 0
}